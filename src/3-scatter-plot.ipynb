{
 "cells": [
  {
   "cell_type": "markdown",
   "metadata": {},
   "source": [
    "### Exercise 3: Scatter Plot with Annotations"
   ]
  },
  {
   "cell_type": "code",
   "execution_count": 1,
   "metadata": {},
   "outputs": [
    {
     "ename": "SyntaxError",
     "evalue": "invalid syntax (373465434.py, line 1)",
     "output_type": "error",
     "traceback": [
      "\u001b[0;36m  Cell \u001b[0;32mIn[1], line 1\u001b[0;36m\u001b[0m\n\u001b[0;31m    matplotlib.pyplot as plt\u001b[0m\n\u001b[0m                      ^\u001b[0m\n\u001b[0;31mSyntaxError\u001b[0m\u001b[0;31m:\u001b[0m invalid syntax\n"
     ]
    }
   ],
   "source": [
    "matplotlib.pyplot as plt\n",
    "\n",
    "try:\n",
    "    # Data\n",
    "    x = [1, 2, 3, 4, 5]\n",
    "    y = [2, 4, 6, 8, 10]\n",
    "\n",
    "    # Create a scatter plot\n",
    "    plt.scatter(x, y)\n",
    "    \n",
    "    # Annotate each point with its (x, y) value\n",
    "    for i in range(len(x)):\n",
    "        plt.annotate(f'({x[i]}, {y[i]})', (x[i], y[i]), textcoords=\"offset points\", xytext=(0,10), ha='center')\n",
    "    \n",
    "    # Add title and labels\n",
    "    plt.title('Scatter Plot with Annotations')\n",
    "    plt.xlabel('x values')\n",
    "    plt.ylabel('y values')\n",
    "    \n",
    "    # Show plot\n",
    "    plt.show()\n",
    "\n",
    "except Exception as e:\n",
    "    print(f\"An error occurred: {e}\")\n"
   ]
  }
 ],
 "metadata": {
  "kernelspec": {
   "display_name": "Python 3",
   "language": "python",
   "name": "python3"
  },
  "language_info": {
   "codemirror_mode": {
    "name": "ipython",
    "version": 3
   },
   "file_extension": ".py",
   "mimetype": "text/x-python",
   "name": "python",
   "nbconvert_exporter": "python",
   "pygments_lexer": "ipython3",
   "version": "3.10.12"
  }
 },
 "nbformat": 4,
 "nbformat_minor": 2
}
